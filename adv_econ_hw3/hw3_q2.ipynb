{
 "cells": [
  {
   "cell_type": "code",
   "execution_count": 4,
   "metadata": {
    "collapsed": true
   },
   "outputs": [],
   "source": [
    "import numpy as np\n",
    "from sklearn.linear_model import Ridge\n",
    "from scipy.optimize import brent\n",
    "import matplotlib.pyplot as plt\n",
    "%matplotlib inline\n",
    "\n",
    "class CoordDescent(object):\n",
    "    '''\n",
    "    Attributes:        \n",
    "        lamda (float): penalizing constant for 1-norm of beta\n",
    "        beta (ndarray): an array of shape (d,) for d features\n",
    "    '''\n",
    "    \n",
    "    def __init__(self, lamda):        \n",
    "        self.lamda = lamda\n",
    "        self.beta = None\n",
    "        \n",
    "    def fit_ridge(self, x, y, lamda):\n",
    "        '''\n",
    "        Args:\n",
    "            x (ndarray): an array of shape (n,d) \n",
    "                         for n points, d features NOT incl constant\n",
    "            y (ndarray): an array of shape (n,) for n points\n",
    "            lamda (float): penalizing constant for 1-norm of beta\n",
    "        Returns:\n",
    "            ndarray: ridge beta, an array of shape (d,) for d features\n",
    "        '''\n",
    "        reg = Ridge(alpha=lamda, fit_intercept=True)\n",
    "        reg.fit(x,y)\n",
    "        return reg.coef_\n",
    "    \n",
    "    def fit(self, x, y):\n",
    "        '''\n",
    "        Args:\n",
    "            x (ndarray): an array of shape (n,d) \n",
    "                         for n points, d features NOT incl constant\n",
    "            y (ndarray): an array of shape (n,) for n points        \n",
    "        Returns:\n",
    "            ndarray: update and return self.beta \n",
    "                     using squared loss and norm-1 regularization                     \n",
    "        '''\n",
    "        self.beta = self.fit_ridge(x, y, self.lamda)\n",
    "\n",
    "        def objective(b, i):\n",
    "            new_beta = np.concatenate((self.beta[:i], np.array([b]), \n",
    "                                       self.beta[i+1:]))\n",
    "            loss = np.linalg.norm(y - x.dot(new_beta))**2\n",
    "            loss += self.lamda * np.linalg.norm(new_beta, ord=1)\n",
    "            return loss\n",
    "\n",
    "        has_change, count, tol = True, 0, 1e-4\n",
    "        while has_change and count < 100:\n",
    "            has_change = False\n",
    "            for i in range(self.beta.size):\n",
    "                prev = self.beta[i]\n",
    "                self.beta[i] = brent(objective, args=(i,))                 \n",
    "                if abs(prev - self.beta[i]) > tol:\n",
    "                    has_change = True\n",
    "            count += 1\n",
    "        return self.beta"
   ]
  },
  {
   "cell_type": "code",
   "execution_count": 24,
   "metadata": {
    "collapsed": false
   },
   "outputs": [],
   "source": [
    "X = np.random.randn(500, 10)\n",
    "y = 3 * X[:,1] + 17 * X[:,2] + np.random.randn(500)\n",
    "lamdas = np.arange(5,150,5)\n",
    "betas = np.zeros((1,10))\n",
    "for lamda in lamdas:\n",
    "    reg = CoordDescent(lamda)       \n",
    "    beta = reg.fit(X, y).reshape(1,10)\n",
    "    betas = np.concatenate((betas, beta), axis=0)"
   ]
  },
  {
   "cell_type": "code",
   "execution_count": 26,
   "metadata": {
    "collapsed": false
   },
   "outputs": [
    {
     "data": {
      "text/plain": [
       "<matplotlib.text.Text at 0xd0be6d8>"
      ]
     },
     "execution_count": 26,
     "metadata": {},
     "output_type": "execute_result"
    },
    {
     "data": {
      "image/png": "[encoded data removed]",
      "text/plain": [
       "<matplotlib.figure.Figure at 0xcfc0a58>"
      ]
     },
     "metadata": {},
     "output_type": "display_data"
    }
   ],
   "source": [
    "plt.plot(lamdas, betas[1:,0], lamdas, betas[1:,3:])\n",
    "plt.xlabel('lamda')\n",
    "plt.ylabel('value of other betas')\n",
    "plt.title('lasso regularization path for other betas')"
   ]
  },
  {
   "cell_type": "code",
   "execution_count": null,
   "metadata": {
    "collapsed": true
   },
   "outputs": [],
   "source": []
  }
 ],
 "metadata": {
  "kernelspec": {
   "display_name": "Python 3",
   "language": "python",
   "name": "python3"
  },
  "language_info": {
   "codemirror_mode": {
    "name": "ipython",
    "version": 3
   },
   "file_extension": ".py",
   "mimetype": "text/x-python",
   "name": "python",
   "nbconvert_exporter": "python",
   "pygments_lexer": "ipython3",
   "version": "3.6.0"
  }
 },
 "nbformat": 4,
 "nbformat_minor": 2
}
